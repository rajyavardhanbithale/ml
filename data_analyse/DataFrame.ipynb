{
 "cells": [
  {
   "cell_type": "code",
   "execution_count": null,
   "id": "ced26fda",
   "metadata": {},
   "outputs": [],
   "source": [
    "# What is Dataframe ? \n",
    "'''\n",
    "Dataframe is a main object in Pandas. It is used to represent data with rows and columns.\n",
    "A DataFrame is a data structure that organizes data into a 2-dimensional table of rows and columns, \n",
    "much like a spreadsheet. DataFrames are one of the most common data structures used in modern data analytics \n",
    "because they are a flexible and intuitive way of storing and working with data.\n",
    "'''"
   ]
  }
 ],
 "metadata": {
  "kernelspec": {
   "display_name": "Python 3 (ipykernel)",
   "language": "python",
   "name": "python3"
  },
  "language_info": {
   "codemirror_mode": {
    "name": "ipython",
    "version": 3
   },
   "file_extension": ".py",
   "mimetype": "text/x-python",
   "name": "python",
   "nbconvert_exporter": "python",
   "pygments_lexer": "ipython3",
   "version": "3.11.6"
  }
 },
 "nbformat": 4,
 "nbformat_minor": 5
}
